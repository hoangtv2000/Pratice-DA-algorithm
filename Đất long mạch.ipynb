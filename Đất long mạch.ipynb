{
 "cells": [
  {
   "cell_type": "markdown",
   "metadata": {},
   "source": [
    "# Bài toán đất long mạch"
   ]
  },
  {
   "attachments": {},
   "cell_type": "markdown",
   "metadata": {},
   "source": [
    "Độ phức tạp theo thời gian yêu cầu O(n^3)\n",
    "\n",
    "Đề. Có một vị triệu phú nọ về quê mua một lô đất hình chữ nhật có long mạch để xây nhà. Ông muốn phần đất để xây nhà ở sẽ là có diện tích lớn nhất và chứa nhiều long mạch nhất, phần đất còn lại để làm khuôn viên để nuôi cá và trồng thêm rau. Vì muốn tìm thế đất chính xác nhất, ông mời nhà tiên tri vũ trụ đến để khảo sát phong thủy. Bằng tài nghệ cao cường của mình, nhà tiên tri có thể định lượng được long mạch của từng mét vuông đất. Số được định lượng có thể dương, âm hoặc bằng 0.\n",
    "\n",
    "Từ kết quả định lượng long mạch, hãy giúp vị triệu phú mô phỏng phần đất nên dùng để xây nhà, biết rằng phần đất này cũng là hình chữ nhật. Đồng thời cho biết tổng lượng long mạch có trong phần đất đó.\n",
    "\n",
    "\n",
    "Dữ liệu: vào từ thiết bị nhập chuẩn:\n",
    "+ Dòng đầu tiên chứa 2 số nguyên m và n (2 <= m,n <= ...)\n",
    "+ Dòng thứ 2 bao gồm m*n số nguyên cách nhau tượng trưng cho định lượng long mạch của từng mét vuông đất ( <= số <= ).\n",
    "\n",
    "Kết quả: Đưa ra thiết bị xuất chuẩn:\n",
    "+ Dòng đầu tiên thông báo kết quả mô phỏng của phần đất xây nhà theo định dạng \"từ hàng\" \"đến hàng\", \"từ cột\" \"đến cột\". \n",
    "+ Dòng thứ 2 thông báo tổng lượng long mạch có trong phần đất đó. \n",
    "\n",
    "\n",
    "Ví dụ:\n",
    "\n",
    "INPUT:\t\t\t\t\t                 \n",
    "\n",
    "4 \n",
    "\n",
    "4\n",
    "\n",
    "1 3 3 -1 -2 6 4 3 2 0 -2 2 3 1 0 3       \n",
    " \n",
    "OUTPUT:\n",
    "\n",
    "2 3 1 2\n",
    "\n",
    "16\n"
   ]
  },
  {
   "cell_type": "markdown",
   "metadata": {},
   "source": [
    "## Giải thuật Brute-force"
   ]
  },
  {
   "cell_type": "code",
   "execution_count": 1,
   "metadata": {},
   "outputs": [],
   "source": [
    "# Tìm ma trận con có tổng các phần tử lớn nhất trong ma trận cho trước với độ phức tạp theo thời gian là O(n^6).\n",
    "\n",
    "def bruteForceApproach(matrix):\n",
    "    # Ma trận size MxN (M hàng N cột)\n",
    "    M, N = len(matrix), len(matrix[0])\n",
    "    \n",
    "    # Ma trận S chứa các S[i][j] lưu tổng các phần tử từ hàng 0->i-1 và cột từ 0->j-1\n",
    "    S = [[0 for x in range(N+1)] for y in range(M+1)]\n",
    "    \n",
    "    # Lưu tổng ma trận vào S.\n",
    "    # Sử dụng phương pháp quy hoạch động tính S[i][j] bằng cách: cộng tổng tất cả các hàng từ 1->i, cộng tổng tất cả các \n",
    "    # cột từ 1->j, sau đó trừ tất cả các hàng/cột từ 1->i-1/1->j-1. \n",
    "    for i in range(1, M+1):\n",
    "        for j in range(1, N+1):\n",
    "            S[i][j] = S[i-1][j] + S[i][j-1] - S[i-1][j-1] + matrix[i-1][j-1]\n",
    "    \n",
    "    # Lưu trữ kết quả cuối cùng\n",
    "    maxSum = float('-inf')\n",
    "    rowStart = rowEnd = colStart = colEnd = 0\n",
    "    \n",
    "    # Với mọi ma trận con hàng i->j và cột m->n thuộc ma trận ban đầu.\n",
    "    for i in range(M):\n",
    "        for j in range(i,M):\n",
    "            for m in range(N):\n",
    "                for n in range(m,N):\n",
    "                    # Phương pháp quy hoạch động tính tổng các phần tử của ma trận con với độ phức tạp thời gian O(1).\n",
    "                    # https://www.techiedelight.com/calculate-sum-elements-sub-matrix-constant-time/\n",
    "                    submatrixSum = S[j + 1][n + 1] - S[j + 1][m] - S[i][n + 1] + S[i][m]\n",
    "                    \n",
    "                    # Tìm vị trí của ma trận con có tổng lớn nhất\n",
    "                    if submatrixSum > maxSum:\n",
    "                        maxSum = submatrixSum\n",
    "                        rowStart = i\n",
    "                        rowEnd = j\n",
    "                        colStart = m\n",
    "                        colEnd = n                    \n",
    "\n",
    "    return maxSum   "
   ]
  },
  {
   "cell_type": "code",
   "execution_count": 2,
   "metadata": {},
   "outputs": [],
   "source": [
    "def Kadane(arr, start, end, n):\n",
    "    sum = 0 \n",
    "    maxSum = float('-inf')\n",
    "    \n",
    "    end[0] = -1\n",
    "    \n",
    "    local_start = 0 \n",
    "    \n",
    "    for i in range(n):\n",
    "        sum += arr[i]\n",
    "        if sum < 0:\n",
    "            sum = 0 \n",
    "            local_start = i+1\n",
    "        elif sum > maxSum:\n",
    "            maxSum = sum\n",
    "            start[0] = local_start\n",
    "            end[0] = i \n",
    "    \n",
    "    # Trường hợp chỉ có ít nhất một phần tử dương trong array thì trả về luôn    \n",
    "    if end[0] != -1:\n",
    "        return maxSum \n",
    "    \n",
    "    # Khi tất cả các phần tử trong array đều âm thì start và end = 0 => coi như không nhận array này\n",
    "    maxSum = arr[0]\n",
    "    start[0] = end[0] = 0\n",
    "    \n",
    "    # Tìm max sum cho array\n",
    "    for i in range(1, n):\n",
    "        if arr[i] > maxSum:\n",
    "            maxSum = arr[i]\n",
    "            start[0] = end[0] = i \n",
    "    \n",
    "    return maxSum\n",
    "\n",
    "\n",
    "def KadaneApproach(matrix, M, N):\n",
    "    # Lưu trữ kết quả cuối cùng\n",
    "    maxSum = float('-inf')\n",
    "    rowStart = rowEnd = colStart = colEnd = 0\n",
    "    left = right = i = 0\n",
    "    \n",
    "    arr = [None]*M\n",
    "    sum = 0\n",
    "    start = [0]\n",
    "    end = [0]\n",
    "    \n",
    "    for left in range(N):\n",
    "        arr = [0]*M\n",
    "        for right in range(left, N):\n",
    "            # Tính tổng các phần tử của từng hàng giới hạn từ left->right của ma trận\n",
    "            for i in range(M):\n",
    "                arr[i] += matrix[i][right]\n",
    "            # Từ kết quả trên, sử dụng thuật toán Kadane cho arr trên để tìm các start và end đem lại tổng lớn nhất\n",
    "            sum = Kadane(arr, start, end, M)\n",
    "            \n",
    "            if (sum > maxSum):\n",
    "                maxSum = sum\n",
    "                rowStart = left\n",
    "                rowEnd = right\n",
    "                colStart = start[0]\n",
    "                colEnd = end[0] \n",
    "\n",
    "    # print(rowStart, rowEnd, colStart, colEnd)\n",
    "    return maxSum            "
   ]
  },
  {
   "cell_type": "code",
   "execution_count": 3,
   "metadata": {},
   "outputs": [],
   "source": [
    "# Kiểm tra thời gian thực thi \n",
    "from time import time\n",
    "\n",
    "# Tạo test \n",
    "import numpy as np"
   ]
  },
  {
   "cell_type": "code",
   "execution_count": 4,
   "metadata": {},
   "outputs": [],
   "source": [
    "min_val = -100\n",
    "max_val = 100\n",
    "num_rows = 100\n",
    "num_cols = 100\n",
    "\n",
    "huge_matrix = np.random.randint(min_val,max_val,(num_rows, num_cols))"
   ]
  },
  {
   "cell_type": "code",
   "execution_count": 5,
   "metadata": {},
   "outputs": [],
   "source": [
    "start = time()\n",
    "bf_sum = bruteForceApproach(huge_matrix)\n",
    "end = time()\n",
    "\n",
    "bf_time = end - start"
   ]
  },
  {
   "cell_type": "code",
   "execution_count": 6,
   "metadata": {},
   "outputs": [],
   "source": [
    "start = time()\n",
    "kd_sum = KadaneApproach(huge_matrix, num_rows, num_cols)  \n",
    "end = time()\n",
    "\n",
    "kd_time = end - start"
   ]
  },
  {
   "cell_type": "code",
   "execution_count": 7,
   "metadata": {},
   "outputs": [
    {
     "name": "stdout",
     "output_type": "stream",
     "text": [
      "Tổng ma trận lớn nhất mà Brute Force tìm thấy: 6439\n",
      "Tổng ma trận lớn nhất mà Kadane tìm thấy: 6439\n",
      "Thời gian Brute Force thực thi:  11.548973321914673\n",
      "Thời gian Kadane thực thi:  0.33800220489501953\n"
     ]
    }
   ],
   "source": [
    "print('Tổng ma trận lớn nhất mà Brute Force tìm thấy:', bf_sum)\n",
    "print('Tổng ma trận lớn nhất mà Kadane tìm thấy:', kd_sum)\n",
    "\n",
    "print('Thời gian Brute Force thực thi: ', bf_time)\n",
    "print('Thời gian Kadane thực thi: ', kd_time)"
   ]
  }
 ],
 "metadata": {
  "kernelspec": {
   "display_name": "Python 3",
   "language": "python",
   "name": "python3"
  },
  "language_info": {
   "codemirror_mode": {
    "name": "ipython",
    "version": 3
   },
   "file_extension": ".py",
   "mimetype": "text/x-python",
   "name": "python",
   "nbconvert_exporter": "python",
   "pygments_lexer": "ipython3",
   "version": "3.7.7"
  }
 },
 "nbformat": 4,
 "nbformat_minor": 4
}
