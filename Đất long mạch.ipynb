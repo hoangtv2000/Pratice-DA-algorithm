{
 "cells": [
  {
   "cell_type": "markdown",
   "metadata": {},
   "source": [
    "# Bài toán đất long mạch"
   ]
  },
  {
   "cell_type": "markdown",
   "metadata": {},
   "source": [
    "Độ phức tạp theo thời gian yêu cầu O(n^3)\n",
    "\n",
    "Có một vị triệu phú nọ về quê mua một lô đất (hình chữ nhật kích thước m x n đơn vị diện tích) có long mạch để xây nhà. Ông muốn phần đất để xây nhà ở (hình chữ nhật kích thước a x b) sẽ là phần chứa nhiều long mạch nhất, phần còn lại sẽ là khuôn viên để nuôi cá và trồng thêm rau, thậm chí ông dự tính là có thể bỏ luôn phần khuôn viên nếu đất quá tốt. Vì ông muốn tìm thế đất chính xác nhất, nên ông mời nhà tiên tri vũ trụ đến để khảo sát phong thủy. Bằng tài nghệ cao cường của mình, nhà tiên tri có thể định lượng được long mạch của từng mét vuông đất. Số được định lượng có thể dương, âm hoặc bằng 0. \n",
    "\n",
    "Từ kết quả định lượng long mạch, hãy giúp vị triệu phú mô phỏng phần đất nên dùng để xây nhà. Đồng thời cho biết tổng lượng long mạch có trong phần đất đó.\n",
    "\n",
    "Dữ liệu: vào từ thiết bị nhập chuẩn:\n",
    "+ Dòng đầu tiên chứa 2 số nguyên m và n (2 <= m,n <= ...)\n",
    "+ Dòng thứ 2 bao gồm m*n số nguyên cách nhau tượng trưng cho định lượng long mạch của từng mét vuông đất ( <= số <= ).\n",
    "\n",
    "Kết quả: Đưa ra thiết bị xuất chuẩn:\n",
    "+ Dòng đầu tiên thông báo kết quả mô phỏng của phần đất xây nhà theo định dạng \"từ hàng\" \"đến hàng\", \"từ cột\" \"đến cột\". \n",
    "+ Dòng thứ 2 thông báo tổng lượng long mạch có trong phần đất đó. \n",
    "\n",
    "\n",
    "Ví dụ:\n",
    "\n",
    "INPUT:\t\t\t\t\t                 \n",
    "\n",
    "4 \n",
    "\n",
    "4\n",
    "\n",
    "1 3 3 -1 -2 6 4 3 2 0 -2 2 3 1 0 3       \n",
    " \n",
    "OUTPUT:\n",
    "\n",
    "2 3 1 2\n",
    "\n",
    "16\n"
   ]
  },
  {
   "cell_type": "markdown",
   "metadata": {},
   "source": [
    "## Giải thuật Brute-force"
   ]
  },
  {
   "cell_type": "code",
   "execution_count": 1,
   "metadata": {},
   "outputs": [],
   "source": [
    "# Tìm ma trận con có tổng các phần tử lớn nhất trong ma trận cho trước với độ phức tạp theo thời gian là O(n^6).\n",
    "\n",
    "def bruteForceApproach(matrix):\n",
    "    # Ma trận size MxN (M hàng N cột)\n",
    "    M, N = len(matrix), len(matrix[0])\n",
    "    \n",
    "    # Ma trận S chứa các S[i][j] lưu tổng các phần tử từ hàng 0->i-1 và cột từ 0->j-1\n",
    "    S = [[0 for x in range(N+1)] for y in range(M+1)]\n",
    "    \n",
    "    # Lưu tổng ma trận vào S.\n",
    "    # Sử dụng phương pháp quy hoạch động tính S[i][j] bằng cách: cộng tổng tất cả các hàng từ 1->i, cộng tổng tất cả các \n",
    "    # cột từ 1->j, sau đó trừ tất cả các hàng/cột từ 1->i-1/1->j-1. \n",
    "    for i in range(1, M+1):\n",
    "        for j in range(1, N+1):\n",
    "            S[i][j] = S[i-1][j] + S[i][j-1] - S[i-1][j-1] + matrix[i-1][j-1]\n",
    "    \n",
    "    print(S)\n",
    "    # Lưu trữ kết quả cuối cùng\n",
    "    maxSum = float('-inf')\n",
    "    rowStart = rowEnd = colStart = colEnd = 0\n",
    "    \n",
    "    # Với mọi ma trận con hàng i->j và cột m->n thuộc ma trận ban đầu.\n",
    "    for i in range(M):\n",
    "        for j in range(i,M):\n",
    "            for m in range(N):\n",
    "                for n in range(m,N):\n",
    "                    # Phương pháp quy hoạch động tính tổng các phần tử của ma trận con với độ phức tạp thời gian O(1).\n",
    "                    # https://www.techiedelight.com/calculate-sum-elements-sub-matrix-constant-time/\n",
    "                    submatrixSum = S[j + 1][n + 1] - S[j + 1][m] - S[i][n + 1] + S[i][m]\n",
    "                    \n",
    "                    # Tìm vị trí của ma trận con có tổng lớn nhất\n",
    "                    if submatrixSum > maxSum:\n",
    "                        maxSum = submatrixSum\n",
    "                        rowStart = i\n",
    "                        rowEnd = j\n",
    "                        colStart = m\n",
    "                        colEnd = n                    \n",
    "\n",
    "    print(maxSum)   "
   ]
  },
  {
   "cell_type": "code",
   "execution_count": 2,
   "metadata": {},
   "outputs": [],
   "source": [
    "def Kadane(arr, start, end, n):\n",
    "    sum = 0 \n",
    "    maxSum = float('-inf')\n",
    "    \n",
    "    end[0] = -1\n",
    "    \n",
    "    local_start = 0 \n",
    "    \n",
    "    for i in range(n):\n",
    "        sum += arr[i]\n",
    "        if sum < 0:\n",
    "            sum = 0 \n",
    "            local_start = i+1\n",
    "        elif sum > maxSum:\n",
    "            maxSum = sum\n",
    "            start[0] = local_start\n",
    "            end[0] = i \n",
    "    \n",
    "    # Trường hợp chỉ có ít nhất một phần tử dương trong array thì trả về luôn    \n",
    "    if end[0] != -1:\n",
    "        return maxSum \n",
    "    \n",
    "    # Khi tất cả các phần tử trong array đều âm thì start và end = 0 => coi như không nhận array này\n",
    "    maxSum = arr[0]\n",
    "    start[0] = end[0] = 0\n",
    "    \n",
    "    # Tìm max sum cho array\n",
    "    for i in range(1, n):\n",
    "        if arr[i] > maxSum:\n",
    "            maxSum = arr[i]\n",
    "            start[0] = end[0] = i \n",
    "    \n",
    "    return maxSum\n",
    "\n",
    "\n",
    "def KadaneApproach(matrix, M, N):\n",
    "    # Lưu trữ kết quả cuối cùng\n",
    "    maxSum = float('-inf')\n",
    "    rowStart = rowEnd = colStart = colEnd = 0\n",
    "    left = right = i = 0\n",
    "    \n",
    "    arr = [None]*M\n",
    "    sum = 0\n",
    "    start = [0]\n",
    "    end = [0]\n",
    "    \n",
    "    for left in range(N):\n",
    "        arr = [0]*M\n",
    "        for right in range(left, N):\n",
    "            # Tính tổng các phần tử của từng hàng giới hạn từ left->right của ma trận\n",
    "            for i in range(M):\n",
    "                arr[i] += matrix[i][right]\n",
    "            # Từ kết quả trên, sử dụng thuật toán Kadane cho arr trên để tìm các start và end đem lại tổng lớn nhất\n",
    "            sum = Kadane(arr, start, end, M)\n",
    "            \n",
    "            if (sum > maxSum):\n",
    "                maxSum = sum\n",
    "                rowStart = left\n",
    "                rowEnd = right\n",
    "                colStart = start[0]\n",
    "                colEnd = end[0] \n",
    "\n",
    "    print(rowStart, rowEnd, colStart, colEnd)\n",
    "    print(maxSum)            "
   ]
  },
  {
   "cell_type": "code",
   "execution_count": 51,
   "metadata": {},
   "outputs": [
    {
     "name": "stdout",
     "output_type": "stream",
     "text": [
      "1\n",
      "3\n",
      "1 1 1\n"
     ]
    },
    {
     "ename": "IndexError",
     "evalue": "list index out of range",
     "output_type": "error",
     "traceback": [
      "\u001b[1;31m---------------------------------------------------------------------------\u001b[0m",
      "\u001b[1;31mIndexError\u001b[0m                                Traceback (most recent call last)",
      "\u001b[1;32m<ipython-input-51-bf45283fd183>\u001b[0m in \u001b[0;36m<module>\u001b[1;34m\u001b[0m\n\u001b[0;32m     12\u001b[0m     \u001b[0mq\u001b[0m \u001b[1;33m=\u001b[0m\u001b[1;33m[\u001b[0m\u001b[1;33m]\u001b[0m\u001b[1;33m\u001b[0m\u001b[1;33m\u001b[0m\u001b[0m\n\u001b[0;32m     13\u001b[0m     \u001b[1;32mfor\u001b[0m \u001b[0mj\u001b[0m \u001b[1;32min\u001b[0m \u001b[0mrange\u001b[0m\u001b[1;33m(\u001b[0m\u001b[0mN\u001b[0m\u001b[1;33m)\u001b[0m\u001b[1;33m:\u001b[0m\u001b[1;33m\u001b[0m\u001b[1;33m\u001b[0m\u001b[0m\n\u001b[1;32m---> 14\u001b[1;33m         \u001b[0mq\u001b[0m\u001b[1;33m.\u001b[0m\u001b[0mappend\u001b[0m\u001b[1;33m(\u001b[0m\u001b[0mint\u001b[0m\u001b[1;33m(\u001b[0m\u001b[0ma\u001b[0m\u001b[1;33m[\u001b[0m\u001b[0mj\u001b[0m\u001b[1;33m+\u001b[0m\u001b[0mi\u001b[0m\u001b[1;33m*\u001b[0m\u001b[0mM\u001b[0m\u001b[1;33m]\u001b[0m\u001b[1;33m)\u001b[0m\u001b[1;33m)\u001b[0m\u001b[1;33m\u001b[0m\u001b[1;33m\u001b[0m\u001b[0m\n\u001b[0m\u001b[0;32m     15\u001b[0m     \u001b[0mmatrix\u001b[0m\u001b[1;33m.\u001b[0m\u001b[0mappend\u001b[0m\u001b[1;33m(\u001b[0m\u001b[0mq\u001b[0m\u001b[1;33m)\u001b[0m\u001b[1;33m\u001b[0m\u001b[1;33m\u001b[0m\u001b[0m\n",
      "\u001b[1;31mIndexError\u001b[0m: list index out of range"
     ]
    }
   ],
   "source": [
    "N = int(input()) \n",
    "M = int(input()) \n",
    "  \n",
    "matrix = [] \n",
    "\n",
    "n = M*N\n",
    "\n",
    "a = list(map(int,input().split()))[:n] \n",
    "\n",
    "\n",
    "for i in range(M):     \n",
    "    q =[] \n",
    "    for j in range(N):     \n",
    "        q.append(int(a[j+i*M])) \n",
    "    matrix.append(q)"
   ]
  },
  {
   "cell_type": "code",
   "execution_count": 47,
   "metadata": {},
   "outputs": [
    {
     "name": "stdout",
     "output_type": "stream",
     "text": [
      "[[0, 0], [0, 1]]\n",
      "1\n"
     ]
    }
   ],
   "source": [
    "bruteForceApproach(matrix)"
   ]
  },
  {
   "cell_type": "code",
   "execution_count": 48,
   "metadata": {},
   "outputs": [
    {
     "name": "stdout",
     "output_type": "stream",
     "text": [
      "0 0 0 0\n",
      "1\n"
     ]
    }
   ],
   "source": [
    "KadaneApproach(matrix, M, N)   "
   ]
  },
  {
   "cell_type": "code",
   "execution_count": 33,
   "metadata": {},
   "outputs": [
    {
     "ename": "AttributeError",
     "evalue": "'list' object has no attribute 'type'",
     "output_type": "error",
     "traceback": [
      "\u001b[1;31m---------------------------------------------------------------------------\u001b[0m",
      "\u001b[1;31mAttributeError\u001b[0m                            Traceback (most recent call last)",
      "\u001b[1;32m<ipython-input-33-d823174e6cff>\u001b[0m in \u001b[0;36m<module>\u001b[1;34m\u001b[0m\n\u001b[1;32m----> 1\u001b[1;33m \u001b[0mmatrix\u001b[0m\u001b[1;33m.\u001b[0m\u001b[0mtype\u001b[0m\u001b[1;33m(\u001b[0m\u001b[1;33m)\u001b[0m\u001b[1;33m\u001b[0m\u001b[1;33m\u001b[0m\u001b[0m\n\u001b[0m",
      "\u001b[1;31mAttributeError\u001b[0m: 'list' object has no attribute 'type'"
     ]
    }
   ],
   "source": [
    "matrix.type()"
   ]
  },
  {
   "cell_type": "code",
   "execution_count": null,
   "metadata": {},
   "outputs": [],
   "source": []
  }
 ],
 "metadata": {
  "kernelspec": {
   "display_name": "Python 3",
   "language": "python",
   "name": "python3"
  },
  "language_info": {
   "codemirror_mode": {
    "name": "ipython",
    "version": 3
   },
   "file_extension": ".py",
   "mimetype": "text/x-python",
   "name": "python",
   "nbconvert_exporter": "python",
   "pygments_lexer": "ipython3",
   "version": "3.7.7"
  }
 },
 "nbformat": 4,
 "nbformat_minor": 4
}
