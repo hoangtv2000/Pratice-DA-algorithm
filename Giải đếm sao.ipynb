{
 "cells": [
  {
   "cell_type": "markdown",
   "metadata": {
    "id": "H9zOH6YTWZlz"
   },
   "source": [
    "\n",
    "# Tiếp cận bài toán\n",
    "\n",
    "Tìm $(x_1, y_1), (x_2, y_2),.. (x_k, y_k) $ sao cho $ \\alpha_1 $ &lt; $ \\frac{y_{i+1} - y_i}{x_{i+1} - x_i} $ &lt; $ \\alpha_2, 1 \\leq i $ &lt; $ k $. \n",
    "\n",
    "\n",
    "## Phân tích\n",
    "\n",
    "Bằng các trạng thái khác nhau của phép *nhìn* sao, được liên kết với nhau bằng mối quan hệ $ \\alpha_1 $ &lt; $ \\frac{y_{i+1} - y_i}{x_{i+1} - x_i} $ &lt; $ \\alpha_2, 1 \\leq i $ &lt; $ k $. Có thể nhận ra ngay đây là bài toán **quy hoạch động** với các chuỗi con (phép *nhìn*) liên tiếp và yêu cầu độ dài của chuỗi này phải là lớn nhất."
   ]
  },
  {
   "cell_type": "markdown",
   "metadata": {
    "id": "vn1KsxGmQXri"
   },
   "source": [
    "# Cách tiếp cận sơ khai \n",
    "\n",
    "Vì đây là kiểu bài quy hoạch động điển hình, ta có thể gọi $ dp[i] $ là độ dài dãy con dài nhất khi xét đến vị trí i của tập điểm chứa điểm i đó.\n",
    "\n",
    "Từ cách gọi trên, ta có được sự tương quan giữa 2 trạng thái:\n",
    "\n",
    "$dp[i] = max(dp[j]) + 1 $\n",
    "$, \\forall $ j &lt; $ i $ , $ \\alpha_1 $ &lt; $ \\frac{y_{i} - y_j}{x_{i } - x_j} $ &lt; $ \\alpha_2 $.\n",
    "\n",
    "Tuy nhiên việc tối ưu bài toán lớn thông qua những bài toán con cần phải có một thứ tự nhất định. Ở đây ta có nhận xét các tập điểm nhìn thấy nhau luôn có hoành độ x tăng dần (điều này luôn đúng khi hệ số góc $ \\alpha_1 \\geq 0$). Vì thế ta cần phải sắp xếp tập điểm theo độ tăng dần của x để có được thứ tự tối ưu hợp lý.\n",
    "\n",
    "Ta có thể hình dung qua đoạn pseudocode như sau:\n",
    "\n",
    "\n",
    "```\n",
    "procedure Dynamic_Programming:\n",
    "\n",
    "begin\n",
    "    sort(x, y)\n",
    "    for i:=1 to n do \n",
    "      for j:=1 to i-1 do \n",
    "    begin\n",
    "        angular = (y[i] - y[j]) / (x[i] - x[j])\n",
    "        if (alpha1 < angular < alpha2) then\n",
    "            dp[i] = max(dp[i], dp[j] + 1)\n",
    "    end\n",
    "    return max(dp)\n",
    "end\n",
    "```\n",
    "\n",
    "\n",
    "\n",
    "Về mặt thời gian, cách tiếp cận này không đủ đáp ứng giới hạn bài toán và chỉ dừng lại ở độ phức tạp rất lớn $ \\Rightarrow O(N^2) $\n",
    "\n",
    "Code đầy đủ cho trường hợp $ O(N^2) $:"
   ]
  },
  {
   "cell_type": "markdown",
   "metadata": {
    "id": "ryXxFbgHaMa-"
   },
   "source": [
    "### Nhập input"
   ]
  },
  {
   "cell_type": "code",
   "execution_count": 2,
   "metadata": {
    "colab": {
     "base_uri": "https://localhost:8080/"
    },
    "id": "PgGC1P3wWWWo",
    "outputId": "5d86a0c8-1653-4d5c-bb2c-cea41471249e"
   },
   "outputs": [
    {
     "name": "stdout",
     "output_type": "stream",
     "text": [
      "15\n",
      "1/4 2/1\n",
      "3 1\n",
      "6 2\n",
      "9 3\n",
      "12 4\n",
      "15 5\n",
      "2 1\n",
      "4 2\n",
      "5 3 \n",
      "7 4\n",
      "1 3\n",
      "3 4\n",
      "2 5\n",
      "4 5\n",
      "1 6\n",
      "6 6\n"
     ]
    }
   ],
   "source": [
    "n = int(input())\n",
    "a, c = input().split()\n",
    "a, b = [int(x) for x in a.split('/')]\n",
    "c, d = [int(x) for x in c.split('/')]\n",
    "\n",
    "data = [[0, 0]] * (n+1)\n",
    "\n",
    "for i in range(n):\n",
    "      X, Y = input().split()\n",
    "      X, Y = int(X), int(Y)\n",
    "      data[i] = [X, Y]"
   ]
  },
  {
   "cell_type": "markdown",
   "metadata": {
    "id": "Q10UQIcgZn3Y"
   },
   "source": [
    "### Hàm check \n",
    "Hàm $ check(a, b, m, n, x, y) $ kiểm tra hệ số góc đường thẳng tạo bởi hai điểm $ a$ và $ b$ có nằm giữa hai góc $\\frac{m}{n}$ và $ \\frac{x}{y} $ hay không."
   ]
  },
  {
   "cell_type": "code",
   "execution_count": 3,
   "metadata": {
    "id": "H2-7k3maZlCa"
   },
   "outputs": [],
   "source": [
    "def check(a, b, m, n, x, y):\n",
    "      if (a[0] == b[0]):\n",
    "            return (x == 0)\n",
    "      temp = (a[1] - b[1]) / (a[0] - b[0])\n",
    "      if (y == 0):\n",
    "            y = 100000\n",
    "      else:\n",
    "            y = x / y\n",
    "      x = m / n\n",
    "      return x < temp < y"
   ]
  },
  {
   "cell_type": "markdown",
   "metadata": {
    "id": "3XAyF6zNZuEP"
   },
   "source": [
    "### Hiện thực pseudocode phía trên"
   ]
  },
  {
   "cell_type": "code",
   "execution_count": 4,
   "metadata": {
    "colab": {
     "base_uri": "https://localhost:8080/"
    },
    "id": "9fII873cZs5B",
    "outputId": "bb13a783-13a9-4828-9c42-680e328211f6"
   },
   "outputs": [
    {
     "name": "stdout",
     "output_type": "stream",
     "text": [
      "5\n"
     ]
    }
   ],
   "source": [
    "data = sorted(data, reverse=True)\n",
    "dp = [0] * (n+1) \n",
    "for i in range(1, n+1):\n",
    "      for j in range(i):\n",
    "            if check(data[i], data[j], a, b, c , d):\n",
    "                  dp[i] = max(dp[i], dp[j] + 1)\n",
    "print(dp[n])"
   ]
  },
  {
   "cell_type": "markdown",
   "metadata": {
    "id": "UwmItJAbadg6"
   },
   "source": [
    "# Cách tiếp cận tối ưu\n",
    "\n",
    "Từ **bổ đề**:\n",
    "\n",
    "$\\alpha_1 $ &lt; $ \\frac{y_i - y_j}{x_i - x_j} $ &lt; $ \\alpha_2 $\n",
    "\n",
    "Khi phân tích từng vế, ta có hai tính chất từng đôi một như sau:\n",
    "\n",
    "\n",
    "$ \\alpha_1 $ &lt; $ \\frac{y_i - y_j}{x_i - x_j}$ $\\Leftrightarrow(y_i - y_j)$ $ -  \\alpha_1 * (x_i - x_j) $ &gt; $ 0 \\Leftrightarrow y_i - \\alpha_1 * x_i $ &gt; $ y_j - \\alpha_1 * x_j (1) $\n",
    "\n",
    "\n",
    "$ \\frac{y_i - y_j}{x_i - x_j} $ &lt; $ \\alpha_2 $ $ \\Leftrightarrow -\\frac{(y_i - y_j) - \\alpha_2 *  (x_i - x_j)}{\\alpha_2} $ &gt; $ 0 \\Leftrightarrow $ $ -\\frac{y_i - \\alpha_2 * x_i}{\\alpha_2}  $ &gt; $ -\\frac{y_j - \\alpha_2 * x_j} {\\alpha_2} (2) $\n",
    "\n",
    "\n",
    "\n",
    "\n",
    "Từ $(1)$ ta đặt:   $$ f(x, y) = y - \\alpha_1 * x $$\n",
    "\n",
    "\n",
    "Từ $(2)$ ta đặt:  $$ g(x, y) = \\frac{-(y - \\alpha_2 * x)}{\\alpha_2} $$\n",
    "\n",
    "Suy ra khi hai điểm A và B thấy nhau khi và chỉ khi 2 điều kiện sau xảy ra:\n",
    "\n",
    "\n",
    "$ f(x_i, y_i) $ &gt; $ f(x_j, y_j) $\n",
    "\n",
    "$ g(x_i, y_i) $ &gt; $ g(x_j, y_j) $\n",
    "\n",
    "Đây cũng chính là hình chiếu của điểm $(x, y)$ thông qua hai đường thẳng có hệ số góc là $\\alpha_1$ và $\\alpha_2$.\n",
    "\n",
    "![](https://github.com/thoconvuive/Pratice-DA-algorithm/blob/main/examples/visual.png)\n",
    "\n",
    "Ở hình trên là hình chiếu của điểm $A(6, 3)$ qua các đường thẳng $y = \\frac{1}{4}x + 1.5 $ và $2x -  9$ là điểm $B(4.5, 1.5)$\n",
    "\n",
    "Vậy ta cần chuẩn hoá các điểm $(x, y)$ về dạng $(f(x, y), g(x, y)) $ sau đó ta chỉ kiểm tra xem điều kiện trên có đúng hay không thì chúng sẽ nhìn thấy nhau.\n",
    "\n",
    "Để thuận tiện, ta sẽ sắp xếp các điểm theo chiều tăng dần của $f(x, y)$ để ta dễ dàng lược bỏ điều kiện thứ nhất khi xét tuyến tính. Vì thế ta chỉ cần thực hiện giải thuật trên điều kiện thứ hai.\n",
    "\n",
    "Vậy bài toán quy về tìm dãy con $g(x, y)$ tăng dần dài nhất trên tập đã sắp xếp theo $f(x, y)$ $\\Leftrightarrow$ LIS (Longest Increasing Sequence) trên dãy $g(x, y)$.\n",
    "\n",
    "Cách cài đặt thuật toán như sau:"
   ]
  },
  {
   "cell_type": "markdown",
   "metadata": {
    "id": "3wUahbyuRFFg"
   },
   "source": [
    "## Thư viện"
   ]
  },
  {
   "cell_type": "code",
   "execution_count": 6,
   "metadata": {
    "id": "nXUQG4eCZ1E2"
   },
   "outputs": [],
   "source": [
    "from sys import stdin, stdout\n",
    "import bisect"
   ]
  },
  {
   "cell_type": "markdown",
   "metadata": {
    "id": "AQeCAkpORQUh"
   },
   "source": [
    "## Hàm chuẩn hoá uniform(x, y) trả về hai giá trị $f(x,y)$ và $g(x, y)$ như sau:"
   ]
  },
  {
   "cell_type": "code",
   "execution_count": 7,
   "metadata": {
    "id": "ZwJfGeuFRR-e"
   },
   "outputs": [],
   "source": [
    "def solveEquation(a, b):\n",
    "      return -b/a\n",
    "\n",
    "def uniform(a, b, c, d, X, Y):\n",
    "      temp = Y - a/b * X\n",
    "      if (d == 0):\n",
    "            return temp, X\n",
    "      pmet = Y - c/d * X\n",
    "      return temp, solveEquation(c/d, pmet)"
   ]
  },
  {
   "cell_type": "markdown",
   "metadata": {
    "id": "4FA_y6YQRZOp"
   },
   "source": [
    "## Nhập input và chuẩn hoá đồng thời các toạ độ điểm."
   ]
  },
  {
   "cell_type": "code",
   "execution_count": 8,
   "metadata": {
    "colab": {
     "base_uri": "https://localhost:8080/"
    },
    "id": "Tlh6NheARaR4",
    "outputId": "f7d4f06b-464f-4fa9-dca0-e449e6fc96b5"
   },
   "outputs": [
    {
     "name": "stdout",
     "output_type": "stream",
     "text": [
      "15\n",
      "1/4 2/1\n",
      "3 1\n",
      "6 2\n",
      "9 3\n",
      "12 4\n",
      "15 5\n",
      "2 1\n",
      "4 2\n",
      "5 3\n",
      "7 4\n",
      "1 3\n",
      "3 4\n",
      "2 5\n",
      "4 5\n",
      "1 6\n",
      "6 6\n"
     ]
    }
   ],
   "source": [
    "n = int(input())\n",
    "a, c = input().split()\n",
    "a, b = [int(x) for x in a.split('/')]\n",
    "c, d = [int(x) for x in c.split('/')]\n",
    "data = [[0, 0]] * n\n",
    "\n",
    "for i in range(n):\n",
    "      X, Y = input().split()\n",
    "      x, y = uniform(a, b, c, d, int(X), int(Y))\n",
    "      data[i] = [x, y]"
   ]
  },
  {
   "cell_type": "markdown",
   "metadata": {
    "id": "13O57UcOR934"
   },
   "source": [
    "## Sắp xếp dữ liệu theo chiều tăng của $f(x, y)$ và đừng quên gốc toạ độ (0,0) cũng là một yếu tố quyết định đúng sai của bài toán."
   ]
  },
  {
   "cell_type": "code",
   "execution_count": 9,
   "metadata": {
    "id": "Y2ZnVsN4Rhck"
   },
   "outputs": [],
   "source": [
    "data.sort()"
   ]
  },
  {
   "cell_type": "markdown",
   "metadata": {
    "id": "pY-0YQRJSEqf"
   },
   "source": [
    "## Dùng kĩ thuật chặt nhị phân để tìm kiếm LIS trên dãy $g(x, y)$, với len là chiều dài của LIS và lis dùng để lưu trữ dãy con tăng khi xét đến vị trí i của dãy $g(x, y)$."
   ]
  },
  {
   "cell_type": "code",
   "execution_count": 10,
   "metadata": {
    "colab": {
     "base_uri": "https://localhost:8080/"
    },
    "id": "87fHHvmnSD1_",
    "outputId": "e90b3a9f-6c2b-4567-dc46-2e1e3787b2a4"
   },
   "outputs": [
    {
     "name": "stdout",
     "output_type": "stream",
     "text": [
      "5\n"
     ]
    }
   ],
   "source": [
    "lis, len = [0], 1\n",
    "for i in range(n): \n",
    "      if (data[i][0] < 0) or (data[i][1] < 0) or (i != n - 1 and data[i][0] == data[i+1][0]):\n",
    "            continue\n",
    "      if (data[i][1] > lis[len-1]): \n",
    "            lis.append(data[i][1])\n",
    "            len += 1\n",
    "      else: \n",
    "            lis[bisect.bisect_left(lis, data[i][1])] = data[i][1]\n",
    "print(len - 1)"
   ]
  },
  {
   "cell_type": "markdown",
   "metadata": {
    "id": "e4yWuRE1SORP"
   },
   "source": [
    "Vậy ta đã có một giải thuật với độ phức tạp $O(NlogN)$ đủ nhanh để vượt qua giới hạn của đề bài."
   ]
  }
 ],
 "metadata": {
  "colab": {
   "collapsed_sections": [],
   "name": "Untitled0.ipynb",
   "provenance": [],
   "toc_visible": true
  },
  "kernelspec": {
   "display_name": "Python 3",
   "language": "python",
   "name": "python3"
  },
  "language_info": {
   "codemirror_mode": {
    "name": "ipython",
    "version": 3
   },
   "file_extension": ".py",
   "mimetype": "text/x-python",
   "name": "python",
   "nbconvert_exporter": "python",
   "pygments_lexer": "ipython3",
   "version": "3.7.7"
  }
 },
 "nbformat": 4,
 "nbformat_minor": 1
}
